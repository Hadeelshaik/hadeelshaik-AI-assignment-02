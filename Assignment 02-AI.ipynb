
{
 "cells": [
  {
   "cell_type": "code",
   "execution_count": 7,
   "id": "dd9d39c5",
   "metadata": {},
   "outputs": [
    {
     "name": "stdout",
     "output_type": "stream",
     "text": [
      "number of elements in set E5\n",
      "number of elements in set N4\n",
      "enter element in set E4\n",
      "enter element in set E5\n",
      "enter element in set E6\n",
      "enter element in set E3\n",
      "enter element in set E5\n",
      "enter element in set N2\n",
      "enter element in set N5\n",
      "enter element in set N7\n",
      "enter element in set N4\n",
      "Union of E and N is {2, 3, 4, 5, 6, 7}\n",
      "Intersection of E and N is {4, 5}\n",
      "Difference of E and N is  {3, 6}\n",
      "Symmetric Difference of E and N is  {2, 3, 6, 7}\n"
     ]
    }
   ],
   "source": [
    "E=set()\n",
    "N=set()\n",
    "a=int(input(\"number of elements in set E\"))\n",
    "b=int(input(\"number of elements in set N\"))\n",
    "for i in range(0,a):\n",
    "    e=int(input(\"enter element in set E\"))\n",
    "    E.add(e)\n",
    "for j in range(0,b):\n",
    "    n=int(input(\"enter element in set N\"))\n",
    "    N.add(n)\n",
    "print(\"Union of E and N is\",E|N)\n",
    "print(\"Intersection of E and N is\",E&N)\n",
    "print(\"Difference of E and N is \",E-N)\n",
    "print(\"Symmetric Difference of E and N is \",E^N)"
   ]
  },
  {
   "cell_type": "code",
   "execution_count": null,
   "id": "5aac9174",
   "metadata": {},
   "outputs": [],
   "source": []
  }
 ],
 "metadata": {
  "kernelspec": {
   "display_name": "Python 3",
   "language": "python",
   "name": "python3"
  },
  "language_info": {
   "codemirror_mode": {
    "name": "ipython",
    "version": 3
   },
   "file_extension": ".py",
   "mimetype": "text/x-python",
   "name": "python",
   "nbconvert_exporter": "python",
   "pygments_lexer": "ipython3",
   "version": "3.8.8"
  }
 },
 "nbformat": 4,
 "nbformat_minor": 5
}
